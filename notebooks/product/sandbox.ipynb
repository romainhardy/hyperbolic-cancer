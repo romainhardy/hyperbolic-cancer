{
 "cells": [
  {
   "cell_type": "code",
   "execution_count": 1,
   "metadata": {},
   "outputs": [],
   "source": [
    "import os\n",
    "import sys\n",
    "sys.path.append(\"/home/romainlhardy/code/hyperbolic-cancer/Mixed-Curvature-Pathways\")\n",
    "\n",
    "import networkx as nx\n",
    "import numpy as np\n",
    "import pandas as pd\n",
    "import matplotlib.pyplot as plt\n",
    "import seaborn as sns\n",
    "import torch\n",
    "\n",
    "from utils.load_graph import load_graph\n",
    "from PoincareMaps.data import prepare_data, compute_rfa\n",
    "from sklearn.decomposition import PCA"
   ]
  },
  {
   "cell_type": "code",
   "execution_count": null,
   "metadata": {},
   "outputs": [],
   "source": [
    "!python Mixed-Curvature-Pathways/pytorch/pytorch_hyperbolic.py \\\n",
    "    --dataset /home/romainlhardy/code/hyperbolic-cancer/data/graphs/bladder_edges.txt \\\n",
    "    --batch-size 64 \\\n",
    "    -l 5.0 \\\n",
    "    --epochs 1000 \\\n",
    "    --checkpoint-freq 10 \\\n",
    "    --subsample 32 \\\n",
    "    --euc 1 \\\n",
    "    --edim 2 \\\n",
    "    --sph 1 \\\n",
    "    --sdim 2 \\\n",
    "    --dim 2 \\\n",
    "    --hyp 1 \\\n",
    "    --riemann \\\n",
    "    --visualize"
   ]
  },
  {
   "cell_type": "code",
   "execution_count": null,
   "metadata": {},
   "outputs": [],
   "source": [
    "data_dir = \"/home/romainlhardy/data/hyperbolic-cancer/bladder\"\n",
    "dset = \"bladder\"\n",
    "\n",
    "file_path = \"/home/romainlhardy/data/hyperbolic-cancer/bladder/GSM4307111_GEO_processed_BC159-T_3_log2TPM_matrix_final.txt\"\n",
    "df = pd.read_csv(file_path, sep=\"\\t\", index_col=0)\n",
    "\n",
    "expression_matrix = df.values.astype(np.float32).T\n",
    "\n",
    "# PCA\n",
    "pca = PCA(n_components=20)\n",
    "features = pca.fit_transform(expression_matrix)\n",
    "features = torch.DoubleTensor(features)\n",
    "print(features.shape)"
   ]
  },
  {
   "cell_type": "code",
   "execution_count": null,
   "metadata": {},
   "outputs": [],
   "source": [
    "rfa = compute_rfa(\n",
    "    features,\n",
    "    mode=\"features\", \n",
    "    k_neighbours=30, \n",
    "    distlocal=\"minkowski\",\n",
    "    distfn=\"MFIsym\", \n",
    "    connected=True, \n",
    "    sigma=1.0\n",
    ") # Pairwise distances in the original data space"
   ]
  },
  {
   "cell_type": "code",
   "execution_count": null,
   "metadata": {},
   "outputs": [],
   "source": [
    "# Create graph with all nodes and edges from RFA matrix\n",
    "G = nx.Graph()\n",
    "G.add_nodes_from(range(features.shape[0]))\n",
    "for i in range(rfa.shape[0]):\n",
    "    indices = torch.argsort(-rfa[i, i + 1:])\n",
    "    for j in indices[:3]:\n",
    "        G.add_edge(i, j.item() + i + 1, weight=1.0)\n",
    "    # for j in range(i + 1, rfa.shape[1]):\n",
    "    #     if rfa[i, j] > 0.01:\n",
    "    #         G.add_edge(i, j, weight=float(rfa[i, j].item()))\n",
    "print(G.number_of_nodes(), G.number_of_edges())\n",
    "\n",
    "# Save graph to file\n",
    "output_path = f\"/home/romainlhardy/code/hyperbolic-cancer/data/graphs/{dset}_edges.txt\"\n",
    "nx.write_weighted_edgelist(G, output_path)"
   ]
  },
  {
   "cell_type": "code",
   "execution_count": null,
   "metadata": {},
   "outputs": [],
   "source": [
    "G = load_graph(f\"/home/romainlhardy/code/hyperbolic-cancer/data/graphs/bladder_edges.txt\")\n",
    "GM = nx.to_scipy_sparse_matrix(G, nodelist=list(range(G.order())))\n",
    "G.edges()"
   ]
  }
 ],
 "metadata": {
  "kernelspec": {
   "display_name": "pt",
   "language": "python",
   "name": "python3"
  },
  "language_info": {
   "codemirror_mode": {
    "name": "ipython",
    "version": 3
   },
   "file_extension": ".py",
   "mimetype": "text/x-python",
   "name": "python",
   "nbconvert_exporter": "python",
   "pygments_lexer": "ipython3",
   "version": "3.10.16"
  }
 },
 "nbformat": 4,
 "nbformat_minor": 2
}
