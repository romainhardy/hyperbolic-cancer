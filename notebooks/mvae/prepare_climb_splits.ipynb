{
 "cells": [
  {
   "cell_type": "code",
   "execution_count": 1,
   "metadata": {},
   "outputs": [],
   "source": [
    "import anndata as ad\n",
    "import matplotlib.pyplot as plt\n",
    "import numpy as np\n",
    "import os\n",
    "import pandas as pd\n",
    "import scanpy as sc\n",
    "import src.mvae.mt.mvae.utils as utils\n",
    "import torch\n",
    "import yaml\n",
    "\n",
    "from scipy.io import mmread, mmwrite\n",
    "from scipy.sparse import csr_matrix, save_npz, vstack\n",
    "from src.lightning.gene import GeneModule\n",
    "from src.mvae.mt.data import GeneDataset\n",
    "from src.mvae.mt.mvae.distributions import *\n",
    "from src.mvae.mt.mvae.models.gene_vae import GeneVAE\n",
    "from src.mvae.mt.mvae.ops.hyperbolics import lorentz_to_poincare\n",
    "from src.mvae.mt.mvae.ops.spherical import spherical_to_projected\n",
    "from torch.utils.data import DataLoader\n",
    "from tqdm.auto import tqdm"
   ]
  },
  {
   "cell_type": "code",
   "execution_count": null,
   "metadata": {},
   "outputs": [],
   "source": [
    "mtx_path = \"/home/romainlhardy/code/hyperbolic-cancer/data/cellxgene/cellxgene_counts.mtx\"\n",
    "mtx = mmread(mtx_path).T.tocsr()\n",
    "print(mtx.shape)\n",
    "\n",
    "batch = pd.read_csv(\"/home/romainlhardy/code/hyperbolic-cancer/data/cellxgene/cellxgene_batch.tsv\", sep=\"\\t\", header=None)\n",
    "print(batch.shape)\n",
    "\n",
    "cell_type = pd.read_csv(\"/home/romainlhardy/code/hyperbolic-cancer/data/cellxgene/cellxgene_cell_type.tsv\", sep=\"\\t\", header=None)\n",
    "print(cell_type.shape)\n",
    "\n",
    "metadata = pd.read_csv(\"/home/romainlhardy/code/hyperbolic-cancer/data/cellxgene/cellxgene_metadata.tsv\", sep=\"\\t\")\n",
    "print(metadata.shape)\n",
    "\n",
    "cluster_assignments = np.load(\"/home/romainlhardy/code/hyperbolic-cancer/data/cellxgene/climb_cluster_assignments.npy\")\n",
    "print(cluster_assignments.shape)"
   ]
  },
  {
   "cell_type": "code",
   "execution_count": null,
   "metadata": {},
   "outputs": [],
   "source": [
    "num_valid_indices = 25000\n",
    "valid_indices = np.random.choice(np.arange(mtx.shape[0]), size=num_valid_indices, replace=False)\n",
    "train_indices = np.setdiff1d(np.arange(mtx.shape[0]), valid_indices)\n",
    "print(len(train_indices), len(valid_indices))\n",
    "assert len(train_indices) == mtx.shape[0] - num_valid_indices\n",
    "np.save(\"/home/romainlhardy/code/hyperbolic-cancer/data/cellxgene/climb_train_indices.npy\", train_indices)\n",
    "np.save(\"/home/romainlhardy/code/hyperbolic-cancer/data/cellxgene/climb_valid_indices.npy\", valid_indices)"
   ]
  },
  {
   "cell_type": "code",
   "execution_count": 4,
   "metadata": {},
   "outputs": [],
   "source": [
    "mtx_train = mtx[train_indices, :]\n",
    "batch_train = batch.iloc[train_indices, :]\n",
    "cell_type_train = cell_type.iloc[train_indices, :]\n",
    "metadata_train = metadata.iloc[train_indices, :]\n",
    "cluster_assignments_train = cluster_assignments[train_indices]\n",
    "\n",
    "mmwrite(\"/home/romainlhardy/code/hyperbolic-cancer/data/cellxgene/climb_counts_train.mtx\", mtx_train.T)\n",
    "batch_train.to_csv(\"/home/romainlhardy/code/hyperbolic-cancer/data/cellxgene/climb_batch_train.tsv\", sep=\"\\t\", index=False, header=False)\n",
    "cell_type_train.to_csv(\"/home/romainlhardy/code/hyperbolic-cancer/data/cellxgene/climb_cell_type_train.tsv\", sep=\"\\t\", index=False, header=False)\n",
    "metadata_train.to_csv(\"/home/romainlhardy/code/hyperbolic-cancer/data/cellxgene/climb_metadata_train.tsv\", sep=\"\\t\", index=False)\n",
    "np.save(\"/home/romainlhardy/code/hyperbolic-cancer/data/cellxgene/climb_cluster_assignments_train.npy\", cluster_assignments_train)"
   ]
  },
  {
   "cell_type": "code",
   "execution_count": 5,
   "metadata": {},
   "outputs": [],
   "source": [
    "mtx_valid = mtx[valid_indices, :]\n",
    "batch_valid = batch.iloc[valid_indices, :]\n",
    "cell_type_valid = cell_type.iloc[valid_indices, :]\n",
    "metadata_valid = metadata.iloc[valid_indices, :]\n",
    "cluster_assignments_valid = cluster_assignments[valid_indices]\n",
    "\n",
    "mmwrite(\"/home/romainlhardy/code/hyperbolic-cancer/data/cellxgene/climb_counts_valid.mtx\", mtx_valid.T)\n",
    "batch_valid.to_csv(\"/home/romainlhardy/code/hyperbolic-cancer/data/cellxgene/climb_batch_valid.tsv\", sep=\"\\t\", index=False, header=False)\n",
    "cell_type_valid.to_csv(\"/home/romainlhardy/code/hyperbolic-cancer/data/cellxgene/climb_cell_type_valid.tsv\", sep=\"\\t\", index=False, header=False)\n",
    "metadata_valid.to_csv(\"/home/romainlhardy/code/hyperbolic-cancer/data/cellxgene/climb_metadata_valid.tsv\", sep=\"\\t\", index=False)\n",
    "np.save(\"/home/romainlhardy/code/hyperbolic-cancer/data/cellxgene/climb_cluster_assignments_valid.npy\", cluster_assignments_valid)"
   ]
  },
  {
   "cell_type": "code",
   "execution_count": null,
   "metadata": {},
   "outputs": [],
   "source": [
    "data_dir = \"/home/romainlhardy/Downloads/merlin_cxg_2023_05_15_sf-log1p/test\"\n",
    "save_dir = \"/home/romainlhardy/code/hyperbolic-cancer/data/cellxgene\"\n",
    "parquet_files = os.listdir(data_dir)\n",
    "print(len(parquet_files))"
   ]
  },
  {
   "cell_type": "code",
   "execution_count": null,
   "metadata": {},
   "outputs": [],
   "source": [
    "file_samples = 10\n",
    "sampled_files = np.random.choice(parquet_files, size=file_samples)\n",
    "highly_variable_mask = np.load(os.path.join(save_dir, \"highly_variable_mask.npy\"))\n",
    "batch_columns = [\"dataset_id\", \"donor_id\"]\n",
    "mtx = None\n",
    "batch = None\n",
    "cell_type = None\n",
    "\n",
    "for i, file in enumerate(tqdm(sampled_files)):\n",
    "    df = pd.read_parquet(os.path.join(data_dir, file), engine=\"pyarrow\", use_threads=True)\n",
    "    if not isinstance(df.X.iloc[0], np.ndarray):\n",
    "        arrays = [np.array(x) for x in df.X]\n",
    "    else:\n",
    "        arrays = df.X.values\n",
    "\n",
    "    try:\n",
    "        X = np.stack(arrays, axis=0).astype(np.float32)\n",
    "        X = np.expm1(X)[:, highly_variable_mask]\n",
    "        X_sparse = csr_matrix(X)\n",
    "    except ValueError as e:\n",
    "        print(f\"Error processing file {file} at index {i}: {e}\")\n",
    "        continue\n",
    "    except TypeError as e:\n",
    "         print(f\"Error processing file {file} at index {i} (TypeError, possibly non-numeric data in X): {e}\")\n",
    "         continue\n",
    "\n",
    "    b = df[batch_columns].values\n",
    "    c = df[\"cell_type\"].values\n",
    "\n",
    "    mtx = X_sparse if mtx is None else vstack([mtx, X_sparse])\n",
    "    batch = b if batch is None else np.vstack([batch, b])\n",
    "    cell_type = c if cell_type is None else np.concatenate([cell_type, c])\n",
    "\n",
    "if mtx is not None:\n",
    "    print(f\"Finished processing {len(sampled_files)} files. Saving final data...\")\n",
    "    try:\n",
    "        mtx_path = os.path.join(save_dir, \"climb_counts_test.mtx\")\n",
    "        batch_path = os.path.join(save_dir, \"climb_batch_test.tsv\")\n",
    "        cell_type_path = os.path.join(save_dir, \"climb_cell_type_test.tsv\")\n",
    "\n",
    "        mmwrite(mtx_path, mtx.T)\n",
    "        np.savetxt(batch_path, batch, delimiter=\"\\t\")\n",
    "        np.savetxt(cell_type_path, cell_type, delimiter=\"\\t\")\n",
    "        print(\"Data saved successfully.\")\n",
    "    except Exception as e:\n",
    "        print(f\"Error saving final data: {e}\")\n",
    "else:\n",
    "    print(\"No data processed or accumulated.\")"
   ]
  }
 ],
 "metadata": {
  "kernelspec": {
   "display_name": "mvae",
   "language": "python",
   "name": "python3"
  },
  "language_info": {
   "codemirror_mode": {
    "name": "ipython",
    "version": 3
   },
   "file_extension": ".py",
   "mimetype": "text/x-python",
   "name": "python",
   "nbconvert_exporter": "python",
   "pygments_lexer": "ipython3",
   "version": "3.9.21"
  }
 },
 "nbformat": 4,
 "nbformat_minor": 2
}
