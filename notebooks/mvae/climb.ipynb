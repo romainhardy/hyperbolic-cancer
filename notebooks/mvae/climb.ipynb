{
 "cells": [
  {
   "cell_type": "code",
   "execution_count": null,
   "metadata": {},
   "outputs": [],
   "source": [
    "# !python3 -m src.climb.mlp\n",
    "# !python3 -m src.climb.mlp_test"
   ]
  },
  {
   "cell_type": "code",
   "execution_count": 2,
   "metadata": {},
   "outputs": [],
   "source": [
    "import numpy as np\n",
    "import pandas as pd\n",
    "\n",
    "TRAIN_MTX_PATH = \"/home/romainlhardy/code/hyperbolic-cancer/data/cellxgene/climb_counts_train.mtx\"\n",
    "VALID_MTX_PATH = \"/home/romainlhardy/code/hyperbolic-cancer/data/cellxgene/climb_counts_valid.mtx\"\n",
    "TEST_MTX_PATH  = \"/home/romainlhardy/code/hyperbolic-cancer/data/cellxgene/climb_counts_test.mtx\"\n",
    "\n",
    "CELL_TYPE_TRAIN_PATH = \"/home/romainlhardy/code/hyperbolic-cancer/data/cellxgene/climb_cell_type_train.tsv\"\n",
    "CELL_TYPE_VALID_PATH = \"/home/romainlhardy/code/hyperbolic-cancer/data/cellxgene/climb_cell_type_valid.tsv\"\n",
    "CELL_TYPE_TEST_PATH = \"/home/romainlhardy/code/hyperbolic-cancer/data/cellxgene/climb_cell_type_test.tsv\"\n",
    "\n",
    "CLUSTER_ASSIGNMENTS_TRAIN_PATH = \"/home/romainlhardy/code/hyperbolic-cancer/data/cellxgene/climb_cluster_assignments_train.npy\"\n",
    "CLUSTER_ASSIGNMENTS_VALID_PATH = \"/home/romainlhardy/code/hyperbolic-cancer/data/cellxgene/climb_cluster_assignments_valid.npy\"\n",
    "CLUSTER_ASSIGNMENTS_TEST_PATH  = \"/home/romainlhardy/code/hyperbolic-cancer/data/cellxgene/climb_cluster_assignments_test.npy\"\n",
    "\n",
    "# Load cell type labels\n",
    "y_train = pd.read_csv(CELL_TYPE_TRAIN_PATH, sep=\"\\t\", header=None).values[:, 0].astype(int)\n",
    "y_valid = pd.read_csv(CELL_TYPE_VALID_PATH, sep=\"\\t\", header=None).values[:, 0].astype(int)\n",
    "y_test  = pd.read_csv(CELL_TYPE_TEST_PATH, sep=\"\\t\", header=None).values[:, 0].astype(int)\n",
    "\n",
    "# CLIMB cluster assignments\n",
    "cluster_assignments_train = np.load(CLUSTER_ASSIGNMENTS_TRAIN_PATH)\n",
    "cluster_assignments_valid = np.load(CLUSTER_ASSIGNMENTS_VALID_PATH)"
   ]
  }
 ],
 "metadata": {
  "kernelspec": {
   "display_name": "mvae",
   "language": "python",
   "name": "python3"
  },
  "language_info": {
   "codemirror_mode": {
    "name": "ipython",
    "version": 3
   },
   "file_extension": ".py",
   "mimetype": "text/x-python",
   "name": "python",
   "nbconvert_exporter": "python",
   "pygments_lexer": "ipython3",
   "version": "3.9.21"
  }
 },
 "nbformat": 4,
 "nbformat_minor": 2
}
