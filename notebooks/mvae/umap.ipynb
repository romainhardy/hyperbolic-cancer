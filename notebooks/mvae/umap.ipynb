{
 "cells": [
  {
   "cell_type": "code",
   "execution_count": 1,
   "metadata": {},
   "outputs": [],
   "source": [
    "import anndata as ad\n",
    "import cupy as cp\n",
    "import harmonypy as hm\n",
    "import matplotlib.pyplot as plt\n",
    "import numpy as np\n",
    "import os\n",
    "import pandas as pd\n",
    "import scanpy as sc\n",
    "import yaml\n",
    "\n",
    "from functools import partial\n",
    "from scipy.io import mmread\n",
    "from sklearn.decomposition import PCA\n",
    "from tqdm.auto import tqdm"
   ]
  },
  {
   "cell_type": "code",
   "execution_count": 2,
   "metadata": {},
   "outputs": [],
   "source": [
    "config_path = \"/home/romainlhardy/code/hyperbolic-cancer/configs/lung/lung_umap25.yaml\"\n",
    "with open(config_path, \"r\") as f:\n",
    "    config = yaml.safe_load(f)"
   ]
  },
  {
   "cell_type": "code",
   "execution_count": 3,
   "metadata": {},
   "outputs": [],
   "source": [
    "def load_data(config):\n",
    "    mtx_path = config[\"data\"][\"mtx_path\"]\n",
    "    batch_paths = config[\"data\"][\"batch_paths\"]\n",
    "\n",
    "    mtx = mmread(mtx_path).tocsr().T\n",
    "    adata = ad.AnnData(X=mtx)\n",
    "\n",
    "    n_cells, n_genes = mtx.shape\n",
    "    adata.var_names = [f\"gene_{i}\" for i in range(n_genes)]\n",
    "    adata.obs_names = [f\"cell_{i}\" for i in range(n_cells)]\n",
    "    \n",
    "    batch_indices = []\n",
    "    for path in batch_paths:\n",
    "        df = pd.read_csv(path, sep=\"\\t\", header=None)\n",
    "        batch_indices.append(df.values)\n",
    "    batch_array = np.concatenate(batch_indices, axis=1)\n",
    "\n",
    "    batch_names = [f\"batch_{i}\" for i in range(batch_array.shape[1])]\n",
    "    for i, name in enumerate(batch_names):\n",
    "        adata.obs[name] = batch_array[:, i]\n",
    "        adata.obs[name] = adata.obs[name].astype(\"category\")\n",
    "\n",
    "    return adata, batch_names, n_cells, n_genes\n",
    "\n",
    "\n",
    "def preprocess(adata, config):\n",
    "    preprocess_config = config[\"model\"][\"preprocess\"]\n",
    "    if preprocess_config[\"normalize\"]:\n",
    "        sc.pp.normalize_total(adata)\n",
    "    if preprocess_config[\"log1p\"]:\n",
    "        sc.pp.log1p(adata)\n",
    "    if preprocess_config[\"top_genes\"]:\n",
    "        sc.pp.highly_variable_genes(adata, n_top_genes=preprocess_config[\"top_genes\"])\n",
    "        adata = adata[:, adata.var.highly_variable].copy()\n",
    "    if preprocess_config[\"scale\"]:\n",
    "        sc.pp.scale(adata)\n",
    "    return adata\n",
    "\n",
    "\n",
    "def train(adata, batch_names, config):\n",
    "    sc.tl.pca(adata, **config[\"model\"][\"pca\"])\n",
    "\n",
    "    ho = hm.run_harmony(\n",
    "        adata.obsm[\"X_pca\"],\n",
    "        adata.obs,\n",
    "        vars_use=batch_names,\n",
    "        **config[\"model\"][\"harmony\"]\n",
    "    )\n",
    "    adata.obsm[\"X_pca_harmony\"] = ho.Z_corr.T\n",
    "        \n",
    "    sc.pp.neighbors(adata, use_rep=\"X_pca_harmony\", **config[\"model\"][\"neighbors\"])\n",
    "\n",
    "    sc.tl.umap(adata, **config[\"model\"][\"umap\"])\n",
    "\n",
    "    save_path = os.path.join(config[\"output_dir\"], f\"{config['experiment']}.h5ad\")\n",
    "    adata.write_h5ad(save_path)\n",
    "    \n",
    "    return adata"
   ]
  },
  {
   "cell_type": "code",
   "execution_count": null,
   "metadata": {},
   "outputs": [],
   "source": [
    "adata, batch_names, n_cells, n_genes = load_data(config)\n",
    "\n",
    "adata = preprocess(adata, config)\n",
    "\n",
    "adata = train(adata, batch_names, config)"
   ]
  }
 ],
 "metadata": {
  "kernelspec": {
   "display_name": "mvae",
   "language": "python",
   "name": "python3"
  },
  "language_info": {
   "codemirror_mode": {
    "name": "ipython",
    "version": 3
   },
   "file_extension": ".py",
   "mimetype": "text/x-python",
   "name": "python",
   "nbconvert_exporter": "python",
   "pygments_lexer": "ipython3",
   "version": "3.9.21"
  }
 },
 "nbformat": 4,
 "nbformat_minor": 2
}
