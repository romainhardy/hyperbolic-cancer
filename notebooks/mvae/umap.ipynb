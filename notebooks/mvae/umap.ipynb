{
 "cells": [
  {
   "cell_type": "code",
   "execution_count": 1,
   "metadata": {},
   "outputs": [],
   "source": [
    "import anndata as ad\n",
    "import cupy as cp\n",
    "import harmonypy as hm\n",
    "import matplotlib.pyplot as plt\n",
    "import numpy as np\n",
    "import os\n",
    "import pandas as pd\n",
    "import scanpy as sc\n",
    "import yaml\n",
    "\n",
    "from functools import partial\n",
    "from scipy.io import mmread\n",
    "from sklearn.decomposition import PCA\n",
    "from tqdm.auto import tqdm"
   ]
  },
  {
   "cell_type": "code",
   "execution_count": 2,
   "metadata": {},
   "outputs": [],
   "source": [
    "config_path = \"/home/romainlhardy/code/hyperbolic-cancer/configs/lung/lung_umap25.yaml\"\n",
    "with open(config_path, \"r\") as f:\n",
    "    config = yaml.safe_load(f)"
   ]
  },
  {
   "cell_type": "code",
   "execution_count": 3,
   "metadata": {},
   "outputs": [],
   "source": [
    "def load_data(config):\n",
    "    mtx_path = config[\"data\"][\"mtx_path\"]\n",
    "    batch_paths = config[\"data\"][\"batch_paths\"]\n",
    "\n",
    "    mtx = mmread(mtx_path).tocsr().T\n",
    "    adata = ad.AnnData(X=mtx)\n",
    "\n",
    "    n_cells, n_genes = mtx.shape\n",
    "    adata.var_names = [f\"gene_{i}\" for i in range(n_genes)]\n",
    "    adata.obs_names = [f\"cell_{i}\" for i in range(n_cells)]\n",
    "    \n",
    "    batch_indices = []\n",
    "    for path in batch_paths:\n",
    "        df = pd.read_csv(path, sep=\"\\t\", header=None)\n",
    "        batch_indices.append(df.values)\n",
    "    batch_array = np.concatenate(batch_indices, axis=1)\n",
    "\n",
    "    batch_names = [f\"batch_{i}\" for i in range(batch_array.shape[1])]\n",
    "    for i, name in enumerate(batch_names):\n",
    "        adata.obs[name] = batch_array[:, i]\n",
    "        adata.obs[name] = adata.obs[name].astype(\"category\")\n",
    "\n",
    "    return adata, batch_names, n_cells, n_genes\n",
    "\n",
    "\n",
    "def preprocess(adata, config):\n",
    "    preprocess_config = config[\"model\"][\"preprocess\"]\n",
    "    if preprocess_config[\"normalize\"]:\n",
    "        sc.pp.normalize_total(adata)\n",
    "    if preprocess_config[\"log1p\"]:\n",
    "        sc.pp.log1p(adata)\n",
    "    if preprocess_config[\"top_genes\"]:\n",
    "        sc.pp.highly_variable_genes(adata, n_top_genes=preprocess_config[\"top_genes\"])\n",
    "        adata = adata[:, adata.var.highly_variable].copy()\n",
    "    if preprocess_config[\"scale\"]:\n",
    "        sc.pp.scale(adata)\n",
    "    return adata\n",
    "\n",
    "\n",
    "def train(adata, batch_names, config):\n",
    "    sc.tl.pca(adata, **config[\"model\"][\"pca\"])\n",
    "\n",
    "    ho = hm.run_harmony(\n",
    "        adata.obsm[\"X_pca\"],\n",
    "        adata.obs,\n",
    "        vars_use=batch_names,\n",
    "        **config[\"model\"][\"harmony\"]\n",
    "    )\n",
    "    adata.obsm[\"X_pca_harmony\"] = ho.Z_corr.T\n",
    "        \n",
    "    sc.pp.neighbors(adata, use_rep=\"X_pca_harmony\", **config[\"model\"][\"neighbors\"])\n",
    "\n",
    "    sc.tl.umap(adata, **config[\"model\"][\"umap\"])\n",
    "\n",
    "    save_path = os.path.join(config[\"output_dir\"], f\"{config['experiment']}.h5ad\")\n",
    "    adata.write_h5ad(save_path)\n",
    "    \n",
    "    return adata"
   ]
  },
  {
   "cell_type": "code",
   "execution_count": 4,
   "metadata": {},
   "outputs": [
    {
     "name": "stderr",
     "output_type": "stream",
     "text": [
      "/home/romainlhardy/miniconda3/envs/mvae/lib/python3.9/site-packages/numba/np/ufunc/parallel.py:371: NumbaWarning: The TBB threading layer requires TBB version 2021 update 6 or later i.e., TBB_INTERFACE_VERSION >= 12060. Found TBB_INTERFACE_VERSION = 12050. The TBB threading layer is disabled.\n",
      "  warnings.warn(problem)\n",
      "2025-04-21 19:59:39,461 - harmonypy - INFO - Computing initial centroids with sklearn.KMeans...\n",
      "2025-04-21 20:03:08,051 - harmonypy - INFO - sklearn.KMeans initialization complete.\n",
      "2025-04-21 20:03:08,353 - harmonypy - INFO - Iteration 1 of 15\n",
      "2025-04-21 20:03:48,025 - harmonypy - INFO - Iteration 2 of 15\n",
      "2025-04-21 20:04:26,833 - harmonypy - INFO - Iteration 3 of 15\n",
      "2025-04-21 20:05:07,981 - harmonypy - INFO - Iteration 4 of 15\n",
      "2025-04-21 20:05:47,993 - harmonypy - INFO - Iteration 5 of 15\n",
      "2025-04-21 20:06:27,452 - harmonypy - INFO - Iteration 6 of 15\n",
      "2025-04-21 20:07:07,684 - harmonypy - INFO - Iteration 7 of 15\n",
      "2025-04-21 20:07:46,558 - harmonypy - INFO - Iteration 8 of 15\n",
      "2025-04-21 20:08:13,673 - harmonypy - INFO - Iteration 9 of 15\n",
      "2025-04-21 20:08:33,203 - harmonypy - INFO - Iteration 10 of 15\n",
      "2025-04-21 20:08:54,101 - harmonypy - INFO - Iteration 11 of 15\n",
      "2025-04-21 20:09:13,768 - harmonypy - INFO - Iteration 12 of 15\n",
      "2025-04-21 20:09:34,332 - harmonypy - INFO - Iteration 13 of 15\n",
      "2025-04-21 20:09:52,888 - harmonypy - INFO - Converged after 13 iterations\n",
      "2025-04-21 20:10:39.184827: E external/local_xla/xla/stream_executor/cuda/cuda_fft.cc:467] Unable to register cuFFT factory: Attempting to register factory for plugin cuFFT when one has already been registered\n",
      "WARNING: All log messages before absl::InitializeLog() is called are written to STDERR\n",
      "E0000 00:00:1745291439.194335  373168 cuda_dnn.cc:8579] Unable to register cuDNN factory: Attempting to register factory for plugin cuDNN when one has already been registered\n",
      "E0000 00:00:1745291439.196894  373168 cuda_blas.cc:1407] Unable to register cuBLAS factory: Attempting to register factory for plugin cuBLAS when one has already been registered\n",
      "W0000 00:00:1745291439.204803  373168 computation_placer.cc:177] computation placer already registered. Please check linkage and avoid linking the same target more than once.\n",
      "W0000 00:00:1745291439.204836  373168 computation_placer.cc:177] computation placer already registered. Please check linkage and avoid linking the same target more than once.\n",
      "W0000 00:00:1745291439.204855  373168 computation_placer.cc:177] computation placer already registered. Please check linkage and avoid linking the same target more than once.\n",
      "W0000 00:00:1745291439.204857  373168 computation_placer.cc:177] computation placer already registered. Please check linkage and avoid linking the same target more than once.\n",
      "2025-04-21 20:10:39.207395: I tensorflow/core/platform/cpu_feature_guard.cc:210] This TensorFlow binary is optimized to use available CPU instructions in performance-critical operations.\n",
      "To enable the following instructions: AVX2 FMA, in other operations, rebuild TensorFlow with the appropriate compiler flags.\n"
     ]
    }
   ],
   "source": [
    "adata, batch_names, n_cells, n_genes = load_data(config)\n",
    "\n",
    "adata = preprocess(adata, config)\n",
    "\n",
    "adata = train(adata, batch_names, config)"
   ]
  }
 ],
 "metadata": {
  "kernelspec": {
   "display_name": "mvae",
   "language": "python",
   "name": "python3"
  },
  "language_info": {
   "codemirror_mode": {
    "name": "ipython",
    "version": 3
   },
   "file_extension": ".py",
   "mimetype": "text/x-python",
   "name": "python",
   "nbconvert_exporter": "python",
   "pygments_lexer": "ipython3",
   "version": "3.9.21"
  }
 },
 "nbformat": 4,
 "nbformat_minor": 2
}
