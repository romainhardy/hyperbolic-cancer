{
 "cells": [
  {
   "cell_type": "code",
   "execution_count": 1,
   "metadata": {},
   "outputs": [],
   "source": [
    "import anndata as ad\n",
    "import cupy as cp\n",
    "import harmonypy as hm\n",
    "import matplotlib.pyplot as plt\n",
    "import numpy as np\n",
    "import os\n",
    "import pandas as pd\n",
    "import scanpy as sc\n",
    "import scanpy.external as sce\n",
    "import yaml\n",
    "\n",
    "from functools import partial\n",
    "from scipy.io import mmread, mmwrite\n",
    "from sklearn.decomposition import PCA\n",
    "from sklearn.manifold import TSNE\n",
    "from tqdm.auto import tqdm"
   ]
  },
  {
   "cell_type": "code",
   "execution_count": 2,
   "metadata": {},
   "outputs": [],
   "source": [
    "config_path = \"/home/romainlhardy/code/hyperbolic-cancer/configs/lung/lung_tsne2.yaml\"\n",
    "with open(config_path, \"r\") as f:\n",
    "    config = yaml.safe_load(f)"
   ]
  },
  {
   "cell_type": "code",
   "execution_count": 3,
   "metadata": {},
   "outputs": [],
   "source": [
    "def load_data(config):\n",
    "    mtx_path = config[\"data\"][\"mtx_path\"]\n",
    "    batch_paths = config[\"data\"][\"batch_paths\"]\n",
    "\n",
    "    X = mmread(mtx_path).tocsr().T\n",
    "    adata = ad.AnnData(X=X)\n",
    "\n",
    "    n_cells, n_genes = X.shape\n",
    "    adata.var_names = [f\"gene_{i}\" for i in range(n_genes)]\n",
    "    adata.obs_names = [f\"cell_{i}\" for i in range(n_cells)]\n",
    "    \n",
    "    batch_indices = []\n",
    "    for path in batch_paths:\n",
    "        df = pd.read_csv(path, sep=\"\\t\", header=None)\n",
    "        batch_indices.append(df.values.astype(int))\n",
    "    batch_array = np.concatenate(batch_indices, axis=1)\n",
    "    \n",
    "    # Filter columns with too many unique values (Harmony is slow with many high-cardinality categories)\n",
    "    valid_columns = []\n",
    "    for i in range(batch_array.shape[1]):\n",
    "        unique_values = np.unique(batch_array[:, i])\n",
    "        if len(unique_values) <= 1000:\n",
    "            value_to_idx = {v: idx for idx, v in enumerate(unique_values)}\n",
    "            batch_array[:, i] = np.array([value_to_idx[v] for v in batch_array[:, i]])\n",
    "            valid_columns.append(i)\n",
    "    batch_array = batch_array[:, valid_columns]\n",
    "\n",
    "    batch_names = [f\"batch_{i}\" for i in range(batch_array.shape[1])]\n",
    "    for i, name in enumerate(batch_names):\n",
    "        adata.obs[name] = batch_array[:, i]\n",
    "        adata.obs[name] = adata.obs[name].astype(\"category\")\n",
    "\n",
    "    return adata, batch_names, n_cells, n_genes\n",
    "\n",
    "\n",
    "def preprocess(adata, config):\n",
    "    preprocess_config = config[\"model\"][\"preprocess\"]\n",
    "    if preprocess_config.get(\"normalize\", False):\n",
    "        sc.pp.normalize_total(adata, target_sum=1e4, inplace=True)\n",
    "    if preprocess_config.get(\"log1p\", False):\n",
    "        sc.pp.log1p(adata)\n",
    "    if preprocess_config.get(\"top_genes\", None):\n",
    "        sc.pp.highly_variable_genes(adata, n_top_genes=preprocess_config[\"top_genes\"])\n",
    "        adata = adata[:, adata.var.highly_variable].copy()\n",
    "    if preprocess_config.get(\"scale\", False):\n",
    "        sc.pp.scale(adata, zero_center=False)\n",
    "    return adata\n",
    "\n",
    "\n",
    "def train(adata, batch_names, config):\n",
    "    sc.tl.pca(adata, **config[\"model\"][\"pca\"])\n",
    "\n",
    "    ho = hm.run_harmony(\n",
    "        adata.obsm[\"X_pca\"],\n",
    "        adata.obs,\n",
    "        vars_use=batch_names,\n",
    "        **config[\"model\"][\"harmony\"]\n",
    "    )\n",
    "    adata.obsm[\"X_pca_harmony\"] = ho.Z_corr.T\n",
    "    \n",
    "    sc.tl.tsne(adata, use_rep=\"X_pca_harmony\", **config[\"model\"][\"tsne\"])\n",
    "\n",
    "    save_path = os.path.join(config[\"output_dir\"], f\"{config['experiment']}.h5ad\")\n",
    "    adata.write_h5ad(save_path)\n",
    "\n",
    "    return adata"
   ]
  },
  {
   "cell_type": "code",
   "execution_count": null,
   "metadata": {},
   "outputs": [],
   "source": [
    "adata, batch_names, n_cells, n_genes = load_data(config)\n",
    "print(batch_names, n_cells, n_genes, [len(np.unique(adata.obs[b].values)) for b in batch_names])\n",
    "\n",
    "adata = preprocess(adata, config)\n",
    "\n",
    "adata = train(adata, batch_names, config)"
   ]
  }
 ],
 "metadata": {
  "kernelspec": {
   "display_name": "mvae",
   "language": "python",
   "name": "python3"
  },
  "language_info": {
   "codemirror_mode": {
    "name": "ipython",
    "version": 3
   },
   "file_extension": ".py",
   "mimetype": "text/x-python",
   "name": "python",
   "nbconvert_exporter": "python",
   "pygments_lexer": "ipython3",
   "version": "3.9.21"
  }
 },
 "nbformat": 4,
 "nbformat_minor": 2
}
