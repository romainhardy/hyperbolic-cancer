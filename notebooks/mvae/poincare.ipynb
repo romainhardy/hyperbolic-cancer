{
 "cells": [
  {
   "cell_type": "code",
   "execution_count": 1,
   "metadata": {},
   "outputs": [],
   "source": [
    "import os\n",
    "import sys\n",
    "sys.path.append(\"/home/romainlhardy/code/hyperbolic-cancer/PoincareMaps\")\n",
    "\n",
    "import matplotlib.pyplot as plt\n",
    "import numpy as np\n",
    "import pandas as pd\n",
    "import scipy.io as sio\n",
    "import torch\n",
    "\n",
    "from matplotlib.colors import LinearSegmentedColormap, to_hex\n",
    "from sklearn.decomposition import PCA\n",
    "from PoincareMaps.data import prepare_data, compute_rfa\n",
    "from PoincareMaps.model import PoincareEmbedding, PoincareDistance, poincare_root, poincare_translation\n",
    "from PoincareMaps.rsgd import RiemannianSGD\n",
    "from PoincareMaps.train import train\n",
    "from PoincareMaps.visualize import plotPoincareDisc, plot_poincare_disc\n",
    "from scipy.sparse import csr_matrix\n",
    "from torch.utils.data import TensorDataset, DataLoader"
   ]
  },
  {
   "cell_type": "code",
   "execution_count": 2,
   "metadata": {},
   "outputs": [],
   "source": [
    "data_dir = \"/home/romainlhardy/data/hyperbolic-cancer/bladder\"\n",
    "dset = \"bladder\"\n",
    "\n",
    "file_path = \"/home/romainlhardy/data/hyperbolic-cancer/bladder/GSM4307111_GEO_processed_BC159-T_3_log2TPM_matrix_final.txt\"\n",
    "df = pd.read_csv(file_path, sep=\"\\t\", index_col=0)\n",
    "\n",
    "expression_matrix = df.values.astype(np.float32)\n",
    "\n",
    "sparse_matrix = csr_matrix(expression_matrix)\n",
    "\n",
    "output_dir = \"/home/romainlhardy/code/hyperbolic-cancer/data/bladder\"\n",
    "output_path = os.path.join(output_dir, \"log2tpm_matrix.mtx\")\n",
    "\n",
    "sio.mmwrite(output_path, sparse_matrix)"
   ]
  }
 ],
 "metadata": {
  "kernelspec": {
   "display_name": "mvae",
   "language": "python",
   "name": "python3"
  },
  "language_info": {
   "codemirror_mode": {
    "name": "ipython",
    "version": 3
   },
   "file_extension": ".py",
   "mimetype": "text/x-python",
   "name": "python",
   "nbconvert_exporter": "python",
   "pygments_lexer": "ipython3",
   "version": "3.9.21"
  }
 },
 "nbformat": 4,
 "nbformat_minor": 2
}
