{
 "cells": [
  {
   "cell_type": "code",
   "execution_count": null,
   "metadata": {},
   "outputs": [],
   "source": [
    "import anndata as ad\n",
    "import cupy as cp\n",
    "import matplotlib.pyplot as plt\n",
    "import numpy as np\n",
    "import os\n",
    "import pandas as pd\n",
    "import scanpy as sc\n",
    "import src.mvae.mt.mvae.utils as utils\n",
    "import torch\n",
    "import umap\n",
    "import umap.umap_ as umap_\n",
    "import yaml\n",
    "\n",
    "from functools import partial\n",
    "from scipy import stats\n",
    "from scipy.io import mmread\n",
    "from sklearn.decomposition import PCA\n",
    "from src.lightning.gene import GeneModule\n",
    "from src.mvae.mt.data import GeneDataset\n",
    "from torch.utils.data import DataLoader\n",
    "from tqdm.auto import tqdm"
   ]
  },
  {
   "cell_type": "code",
   "execution_count": 2,
   "metadata": {},
   "outputs": [],
   "source": [
    "save_path = \"/home/romainlhardy/code/hyperbolic-cancer/models/umap/lung_umap10.h5ad\"\n",
    "key = \"X_pca_harmony\"\n",
    "latents = [sc.read_h5ad(save_path).obsm[key]]"
   ]
  },
  {
   "cell_type": "code",
   "execution_count": 3,
   "metadata": {},
   "outputs": [],
   "source": [
    "def pairwise_distances_euclidean(src: cp.ndarray, dst: cp.ndarray) -> cp.ndarray:\n",
    "    assert src.ndim == 2 and dst.ndim == 2 and src.shape[1] == dst.shape[1]\n",
    "    diff = src[:, None, :] - dst[None, :, :]\n",
    "    return cp.linalg.norm(diff, axis=-1)\n",
    "\n",
    "\n",
    "def get_distance_fns():\n",
    "    return [pairwise_distances_euclidean]"
   ]
  },
  {
   "cell_type": "code",
   "execution_count": null,
   "metadata": {},
   "outputs": [],
   "source": [
    "def knn_accuracy(latents, labels, distance_fns, neighbors=15, batch_size=16):\n",
    "    num_samples = len(latents[0])\n",
    "    assert num_samples == len(labels)\n",
    "    assert len(latents) == len(distance_fns)\n",
    "\n",
    "    correct = 0\n",
    "    total = 0\n",
    "\n",
    "    for i in tqdm(range(0, num_samples, batch_size), total=(num_samples + batch_size - 1) // batch_size):\n",
    "        j = min(i + batch_size, num_samples)\n",
    "        batch_points = [l[i : j] for l in latents]\n",
    "        batch_labels = labels[i : j]\n",
    "\n",
    "        squared_distances = []\n",
    "        for k, distance_fn in enumerate(distance_fns):\n",
    "            squared_distances.append(distance_fn(cp.asarray(batch_points[k]), cp.asarray(latents[k])) ** 2)\n",
    "        \n",
    "        pairwise_distances = cp.sqrt(sum(squared_distances))\n",
    "        pairwise_distances[cp.arange(j - i), cp.arange(j - i)] = float(\"inf\")\n",
    "        neighbor_indices = cp.argsort(pairwise_distances, axis=-1)[:, :neighbors].get()\n",
    "\n",
    "        neighbor_labels = labels[neighbor_indices]\n",
    "        predicted_labels = stats.mode(neighbor_labels, axis=-1).mode\n",
    "        c = (predicted_labels == batch_labels).sum()\n",
    "\n",
    "        correct += c\n",
    "        total += len(batch_labels)\n",
    "\n",
    "    return correct / total\n",
    "\n",
    "\n",
    "metadata_path = \"/home/romainlhardy/code/hyperbolic-cancer/data/lung/metadata.tsv\"\n",
    "column_name = \"mp_assignment\"\n",
    "if metadata_path is not None:\n",
    "    labels = pd.read_csv(metadata_path, sep=\"\\t\")[column_name].replace(np.nan, \"Unknown\").values\n",
    "else:\n",
    "    labels = np.ones((len(latents[0]),)) # Dummy labels\n",
    "    \n",
    "unique_labels = np.unique(labels)\n",
    "label_to_idx = {label: idx for idx, label in enumerate(unique_labels)}\n",
    "labels = np.array([label_to_idx[label] for label in labels])\n",
    "\n",
    "knn_accuracy(latents, labels, get_distance_fns(), neighbors=15)"
   ]
  }
 ],
 "metadata": {
  "kernelspec": {
   "display_name": "mvae",
   "language": "python",
   "name": "python3"
  },
  "language_info": {
   "codemirror_mode": {
    "name": "ipython",
    "version": 3
   },
   "file_extension": ".py",
   "mimetype": "text/x-python",
   "name": "python",
   "nbconvert_exporter": "python",
   "pygments_lexer": "ipython3",
   "version": "3.9.21"
  }
 },
 "nbformat": 4,
 "nbformat_minor": 2
}
