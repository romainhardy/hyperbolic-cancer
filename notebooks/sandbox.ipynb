{
 "cells": [
  {
   "cell_type": "code",
   "execution_count": 9,
   "metadata": {},
   "outputs": [],
   "source": [
    "import torch\n",
    "\n",
    "from PoincareMaps.data import prepare_data, compute_rfa\n",
    "from PoincareMaps.model import PoincareEmbedding, PoincareDistance\n",
    "from torch.utils.data import TensorDataset, DataLoader"
   ]
  },
  {
   "cell_type": "code",
   "execution_count": 2,
   "metadata": {},
   "outputs": [],
   "source": [
    "dset = \"ToggleSwitch\"\n",
    "root = \"root\"\n",
    "\n",
    "features, labels = prepare_data(f\"/home/roh3635/hyperbolic-cancer/PoincareMaps/datasets/{dset}\", with_labels=True, normalize=False, n_pca=0)"
   ]
  },
  {
   "cell_type": "code",
   "execution_count": 3,
   "metadata": {},
   "outputs": [
    {
     "name": "stdout",
     "output_type": "stream",
     "text": [
      "Computing laplacian...\n",
      "Laplacian computed in 0.01 sec\n",
      "Computing RFA...\n",
      "RFA computed in 0.02 sec\n"
     ]
    }
   ],
   "source": [
    "rfa = compute_rfa(\n",
    "    features,\n",
    "    mode=\"features\", \n",
    "    k_neighbours=15, \n",
    "    distlocal=\"minkowski\", \n",
    "    distfn=\"MFIsym\", \n",
    "    connected=True, \n",
    "    sigma=1.0\n",
    ") # Pairwise distances in the original data space"
   ]
  },
  {
   "cell_type": "code",
   "execution_count": 10,
   "metadata": {},
   "outputs": [],
   "source": [
    "device = \"cpu\"\n",
    "indices = torch.arange(len(rfa))\n",
    "\n",
    "indices = indices.to(device)\n",
    "rfa = rfa.to(device)\n",
    "\n",
    "dataset = TensorDataset(indices, rfa)\n",
    "dataloader = DataLoader(dataset, batch_size=64, shuffle=True)"
   ]
  },
  {
   "cell_type": "code",
   "execution_count": 6,
   "metadata": {},
   "outputs": [],
   "source": [
    "predictor = PoincareEmbedding(\n",
    "    len(dataset), \n",
    "    2,\n",
    "    dist=PoincareDistance,\n",
    "    max_norm=1,\n",
    "    Qdist=\"laplace\", \n",
    "    lossfn=\"klSym\",\n",
    "    gamma=1.0,\n",
    "    cuda=0\n",
    ")\n",
    "# predictor.size = dataset size\n",
    "# predictor.lt = embedding matrix (inputs are indices)\n",
    "# predictor.dist = distance function\n",
    "# predictor.lossfn = loss function\n",
    "# predictor.Qdist = distribution of the Poincaré ball\n",
    "# predictor.gamma = gamma (temperature)"
   ]
  },
  {
   "cell_type": "code",
   "execution_count": 15,
   "metadata": {},
   "outputs": [],
   "source": [
    "batch = next(iter(dataloader))\n",
    "outputs = predictor(batch[0]) # [batch_size, len(dataset)]\n",
    "\n",
    "assert outputs.sum(dim=-1).allclose(torch.ones(len(batch[0])))"
   ]
  },
  {
   "cell_type": "code",
   "execution_count": null,
   "metadata": {},
   "outputs": [],
   "source": []
  }
 ],
 "metadata": {
  "kernelspec": {
   "display_name": "poincare",
   "language": "python",
   "name": "python3"
  },
  "language_info": {
   "codemirror_mode": {
    "name": "ipython",
    "version": 3
   },
   "file_extension": ".py",
   "mimetype": "text/x-python",
   "name": "python",
   "nbconvert_exporter": "python",
   "pygments_lexer": "ipython3",
   "version": "3.7.16"
  }
 },
 "nbformat": 4,
 "nbformat_minor": 2
}
