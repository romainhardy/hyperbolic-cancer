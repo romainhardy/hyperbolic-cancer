{
 "cells": [
  {
   "cell_type": "code",
   "execution_count": 1,
   "metadata": {},
   "outputs": [],
   "source": [
    "import PoincareMaps as pm\n",
    "import torch\n",
    "\n",
    "from PoincareMaps.data import prepare_data, compute_rfa\n",
    "from torch.utils.data import TensorDataset"
   ]
  },
  {
   "cell_type": "code",
   "execution_count": 2,
   "metadata": {},
   "outputs": [],
   "source": [
    "dset = \"ToggleSwitch\"\n",
    "root = \"root\"\n",
    "\n",
    "features, labels = prepare_data(f\"/home/roh3635/hyperbolic-cancer/PoincareMaps/datasets/{dset}\", with_labels=True, normalize=False, n_pca=0)"
   ]
  },
  {
   "cell_type": "code",
   "execution_count": null,
   "metadata": {},
   "outputs": [],
   "source": [
    "rfa = compute_rfa(\n",
    "    features,\n",
    "    mode=\"features\", \n",
    "    k_neighbours=15, \n",
    "    distlocal=\"minkowski\", \n",
    "    distfn=\"MFIsym\", \n",
    "    connected=True, \n",
    "    sigma=1.0\n",
    ") # Pairwise distances in the original data space"
   ]
  },
  {
   "cell_type": "code",
   "execution_count": null,
   "metadata": {},
   "outputs": [],
   "source": [
    "device = \"cpu\"\n",
    "indices = torch.arange(len(rfa))\n",
    "\n",
    "indices = indices.to(device)\n",
    "rfa = rfa.to(device)\n",
    "\n",
    "dataset = TensorDataset(indices, rfa)"
   ]
  }
 ],
 "metadata": {
  "kernelspec": {
   "display_name": "poincare",
   "language": "python",
   "name": "python3"
  },
  "language_info": {
   "codemirror_mode": {
    "name": "ipython",
    "version": 3
   },
   "file_extension": ".py",
   "mimetype": "text/x-python",
   "name": "python",
   "nbconvert_exporter": "python",
   "pygments_lexer": "ipython3",
   "version": "3.7.16"
  }
 },
 "nbformat": 4,
 "nbformat_minor": 2
}
