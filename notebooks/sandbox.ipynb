{
 "cells": [
  {
   "cell_type": "code",
   "execution_count": null,
   "metadata": {},
   "outputs": [],
   "source": [
    "import os\n",
    "import sys\n",
    "sys.path.append(\"/home/roh3635/hyperbolic-cancer/PoincareMaps\")\n",
    "\n",
    "import torch\n",
    "\n",
    "from PoincareMaps.data import prepare_data, compute_rfa\n",
    "from PoincareMaps.model import PoincareEmbedding, PoincareDistance\n",
    "from PoincareMaps.rsgd import RiemannianSGD\n",
    "from PoincareMaps.train import train\n",
    "from torch.utils.data import TensorDataset, DataLoader"
   ]
  },
  {
   "cell_type": "code",
   "execution_count": 18,
   "metadata": {},
   "outputs": [],
   "source": [
    "dset = \"ToggleSwitch\"\n",
    "root = \"root\"\n",
    "\n",
    "features, labels = prepare_data(f\"/home/roh3635/hyperbolic-cancer/PoincareMaps/datasets/{dset}\", with_labels=True, normalize=False, n_pca=0)"
   ]
  },
  {
   "cell_type": "code",
   "execution_count": null,
   "metadata": {},
   "outputs": [],
   "source": [
    "rfa = compute_rfa(\n",
    "    features,\n",
    "    mode=\"features\", \n",
    "    k_neighbours=15, \n",
    "    distlocal=\"minkowski\", \n",
    "    distfn=\"MFIsym\", \n",
    "    connected=True, \n",
    "    sigma=1.0\n",
    ") # Pairwise distances in the original data space"
   ]
  },
  {
   "cell_type": "code",
   "execution_count": 20,
   "metadata": {},
   "outputs": [],
   "source": [
    "device = \"cpu\"\n",
    "indices = torch.arange(len(rfa))\n",
    "\n",
    "indices = indices.to(device)\n",
    "rfa = rfa.to(device)\n",
    "\n",
    "dataset = TensorDataset(indices, rfa)\n",
    "dataloader = DataLoader(dataset, batch_size=64, shuffle=True)"
   ]
  },
  {
   "cell_type": "code",
   "execution_count": 21,
   "metadata": {},
   "outputs": [],
   "source": [
    "predictor = PoincareEmbedding(\n",
    "    len(dataset), \n",
    "    2,\n",
    "    dist=PoincareDistance,\n",
    "    max_norm=1,\n",
    "    Qdist=\"laplace\", \n",
    "    lossfn=\"klSym\",\n",
    "    gamma=1.0,\n",
    "    cuda=0\n",
    ")\n",
    "# predictor.size = dataset size\n",
    "# predictor.lt = embedding matrix (inputs are indices)\n",
    "# predictor.dist = distance function\n",
    "# predictor.lossfn = loss function\n",
    "# predictor.Qdist = distribution of the Poincaré ball\n",
    "# predictor.gamma = gamma (temperature)"
   ]
  },
  {
   "cell_type": "code",
   "execution_count": null,
   "metadata": {},
   "outputs": [],
   "source": [
    "batch = next(iter(dataloader))\n",
    "inputs, targets = batch\n",
    "outputs = predictor(inputs) # [batch_size, len(dataset)]\n",
    "\n",
    "assert outputs.sum(dim=-1).allclose(torch.ones(len(batch[0])))\n",
    "\n",
    "predictor.lossfn(outputs, targets) # Try to match the distance distributions in the data space and the embedding space"
   ]
  },
  {
   "cell_type": "code",
   "execution_count": 23,
   "metadata": {},
   "outputs": [],
   "source": [
    "optimizer = RiemannianSGD(predictor.parameters(), lr=0.1)"
   ]
  },
  {
   "cell_type": "code",
   "execution_count": null,
   "metadata": {},
   "outputs": [],
   "source": [
    "class PoincareOptions:\n",
    "    def __init__(self, debugplot=False, epochs=500, batchsize=-1, lr=0.1, burnin=500, lrm=1.0, earlystop=0.0001, cuda=0):\n",
    "        self.debugplot = debugplot\n",
    "        self.batchsize = batchsize\n",
    "        self.epochs = epochs\n",
    "        self.lr =lr\n",
    "        self.lrm =lrm\n",
    "        self.burnin = burnin\n",
    "        self.debugplot = debugplot\n",
    "\n",
    "opt = PoincareOptions()\n",
    "opt.batchsize = 16\n",
    "embeddings, loss, epoch = train(\n",
    "    predictor,\n",
    "    dataset,\n",
    "    optimizer,\n",
    "    opt,\n",
    "    fout=f\"/home/roh3635/hyperbolic-cancer/data/outputs/test.csv\",\n",
    "    labels=labels,\n",
    "    earlystop=0.0001,\n",
    "    color_dict=None\n",
    ")"
   ]
  }
 ],
 "metadata": {
  "kernelspec": {
   "display_name": "poincare",
   "language": "python",
   "name": "python3"
  },
  "language_info": {
   "codemirror_mode": {
    "name": "ipython",
    "version": 3
   },
   "file_extension": ".py",
   "mimetype": "text/x-python",
   "name": "python",
   "nbconvert_exporter": "python",
   "pygments_lexer": "ipython3",
   "version": "3.7.16"
  }
 },
 "nbformat": 4,
 "nbformat_minor": 2
}
