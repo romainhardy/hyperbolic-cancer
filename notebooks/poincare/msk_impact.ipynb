{
 "cells": [
  {
   "cell_type": "code",
   "execution_count": 1,
   "metadata": {},
   "outputs": [],
   "source": [
    "import os\n",
    "import sys\n",
    "sys.path.append(\"/home/romainlhardy/code/hyperbolic-cancer/PoincareMaps\")\n",
    "\n",
    "import matplotlib.pyplot as plt\n",
    "import numpy as np\n",
    "import pandas as pd\n",
    "import torch\n",
    "\n",
    "from matplotlib.colors import LinearSegmentedColormap, to_hex\n",
    "from sklearn.decomposition import PCA\n",
    "from PoincareMaps.data import prepare_data, compute_rfa\n",
    "from PoincareMaps.model import PoincareEmbedding, PoincareDistance, poincare_root, poincare_translation\n",
    "from PoincareMaps.rsgd import RiemannianSGD\n",
    "from PoincareMaps.train import train\n",
    "from PoincareMaps.visualize import plotPoincareDisc, plot_poincare_disc\n",
    "from torch.utils.data import TensorDataset, DataLoader"
   ]
  },
  {
   "cell_type": "code",
   "execution_count": 2,
   "metadata": {},
   "outputs": [],
   "source": [
    "data_dir = \"/home/romainlhardy/data/hyperbolic-cancer/msk_impact/stad_tcga_pan_can_atlas_2018\"\n",
    "dset = \"msk_impact_stomach\""
   ]
  },
  {
   "cell_type": "code",
   "execution_count": null,
   "metadata": {},
   "outputs": [],
   "source": [
    "# Mutation data\n",
    "df_mutations = pd.read_csv(os.path.join(data_dir, \"data_mutations.txt\"), sep=\"\\t\")\n",
    "samples = df_mutations[\"Tumor_Sample_Barcode\"].unique()\n",
    "gene_counts = df_mutations[\"Hugo_Symbol\"].value_counts()\n",
    "\n",
    "print(f\"Mutations: {df_mutations.shape[0]}\")\n",
    "print(f\"Samples: {len(samples)}\")\n",
    "print(f\"Genes: {len(gene_counts)}\")"
   ]
  },
  {
   "cell_type": "code",
   "execution_count": null,
   "metadata": {},
   "outputs": [],
   "source": [
    "# Clinical data\n",
    "df_clinical_samples  = pd.read_csv(os.path.join(data_dir, \"data_clinical_sample.txt\"), sep=\"\\t\", comment=\"#\")\n",
    "df_clinical_patients = pd.read_csv(os.path.join(data_dir, \"data_clinical_patient.txt\"), sep=\"\\t\", comment=\"#\")\n",
    "print(f\"Clinical samples: {df_clinical_samples.shape[0]}\")\n",
    "print(f\"Clinical patients: {df_clinical_patients.shape[0]}\")"
   ]
  },
  {
   "cell_type": "code",
   "execution_count": null,
   "metadata": {},
   "outputs": [],
   "source": [
    "# Gene expression data\n",
    "df_expression = pd.read_csv(os.path.join(data_dir, \"data_mrna_seq_v2_rsem_zscores_ref_all_samples.txt\"), sep=\"\\t\")\n",
    "\n",
    "genes = df_expression[\"Entrez_Gene_Id\"].tolist()\n",
    "samples = df_expression.columns[2:].tolist()\n",
    "print(len(samples))\n",
    "\n",
    "# Feature matrix\n",
    "expression_matrix = df_expression.iloc[:, 2:].T.dropna(axis=1).values.astype(np.float32)\n",
    "print(expression_matrix.shape)\n",
    "\n",
    "# PCA\n",
    "pca = PCA(n_components=20)\n",
    "features = pca.fit_transform(expression_matrix)\n",
    "features = torch.DoubleTensor(features)\n",
    "print(features.shape)"
   ]
  },
  {
   "cell_type": "code",
   "execution_count": null,
   "metadata": {},
   "outputs": [],
   "source": [
    "# # Extract labels (cancer subtype)\n",
    "# if \"ONCOTREE_CODE\" in df_clinical_samples.columns:\n",
    "#     label_column = \"ONCOTREE_CODE\"\n",
    "# else:\n",
    "#     print(\"No suitable cancer type column found. Using sample IDs as placeholder labels.\")\n",
    "#     label_column = None\n",
    "\n",
    "# labels = []\n",
    "# for sample in samples:\n",
    "#     if label_column:\n",
    "#         sample_info = df_clinical_samples[df_clinical_samples[\"SAMPLE_ID\"] == sample]\n",
    "#         if len(sample_info) > 0:\n",
    "#             label = sample_info[label_column].iloc[0]\n",
    "#         else:\n",
    "#             label = \"Unknown\"\n",
    "#     else:\n",
    "#         label = \"Unknown\"\n",
    "#     labels.append(label)\n",
    "\n",
    "# print(np.unique(labels))\n",
    "\n",
    "# Extract labels (mutation counts)\n",
    "mutation_counts = df_mutations[\"Tumor_Sample_Barcode\"].value_counts().to_dict()\n",
    "labels = []\n",
    "for sample in samples:\n",
    "    if sample not in mutation_counts:\n",
    "        mutation_counts[sample] = 1 # Avoid log(0)\n",
    "\n",
    "c = list(mutation_counts.values())\n",
    "min_count = max(1, min(c))\n",
    "max_count = max(c)\n",
    "\n",
    "sorted_counts = sorted(mutation_counts.values())\n",
    "num_bins = 10\n",
    "bin_size = len(sorted_counts) // num_bins\n",
    "bins = [sorted_counts[min(i * bin_size, len(sorted_counts) - 1)] for i in range(num_bins + 1)]\n",
    "bins[0]  = min_count - 0.1 \n",
    "bins[-1] = max_count + 0.1\n",
    "\n",
    "# Map each sample to its bin\n",
    "for sample in samples:\n",
    "    count = mutation_counts.get(sample, 0)\n",
    "    if count == 0:\n",
    "        bin_label = 0  # Special bin for zero mutations\n",
    "    else:\n",
    "        bin_idx = np.digitize(count, bins)\n",
    "        bin_label = bin_idx\n",
    "    labels.append(bin_label)\n",
    "\n",
    "labels = np.array(labels)\n",
    "print(len(labels))"
   ]
  },
  {
   "cell_type": "code",
   "execution_count": null,
   "metadata": {},
   "outputs": [],
   "source": [
    "rfa = compute_rfa(\n",
    "    features,\n",
    "    mode=\"features\", \n",
    "    k_neighbours=30, \n",
    "    distlocal=\"minkowski\",\n",
    "    distfn=\"MFIsym\", \n",
    "    connected=True, \n",
    "    sigma=1.0\n",
    ") # Pairwise distances in the original data space"
   ]
  },
  {
   "cell_type": "code",
   "execution_count": null,
   "metadata": {},
   "outputs": [],
   "source": [
    "device = \"cuda\"\n",
    "indices = torch.arange(len(rfa))\n",
    "\n",
    "indices = indices.to(device)\n",
    "rfa = rfa.to(device)\n",
    "\n",
    "dataset = TensorDataset(indices, rfa)\n",
    "dataloader = DataLoader(dataset, batch_size=64, shuffle=True)\n",
    "\n",
    "print(f\"Dataset size: {len(dataset)}\")"
   ]
  },
  {
   "cell_type": "code",
   "execution_count": 9,
   "metadata": {},
   "outputs": [],
   "source": [
    "predictor = PoincareEmbedding(\n",
    "    len(dataset), \n",
    "    2,\n",
    "    dist=PoincareDistance,\n",
    "    max_norm=1,\n",
    "    Qdist=\"laplace\", \n",
    "    lossfn=\"klSym\",\n",
    "    gamma=2.0,\n",
    "    cuda=0\n",
    ").to(device)"
   ]
  },
  {
   "cell_type": "code",
   "execution_count": null,
   "metadata": {},
   "outputs": [],
   "source": [
    "batch = next(iter(dataloader))\n",
    "inputs, targets = batch\n",
    "outputs = predictor(inputs.to(device)) # [batch_size, len(dataset)]\n",
    "\n",
    "assert outputs.sum(dim=-1).allclose(torch.ones(len(batch[0])).to(device))\n",
    "\n",
    "predictor.lossfn(outputs, targets) # Try to match the distance distributions in the data space and the embedding space"
   ]
  },
  {
   "cell_type": "code",
   "execution_count": 11,
   "metadata": {},
   "outputs": [],
   "source": [
    "optimizer = RiemannianSGD(predictor.parameters(), lr=0.1) # RiemannianSGD optimizer"
   ]
  },
  {
   "cell_type": "code",
   "execution_count": null,
   "metadata": {},
   "outputs": [],
   "source": [
    "class PoincareOptions:\n",
    "    def __init__(self, debugplot=False, epochs=500, batchsize=-1, lr=0.1, burnin=500, lrm=1.0, earlystop=0.0001, cuda=0):\n",
    "        self.debugplot = debugplot\n",
    "        self.epochs = epochs\n",
    "        self.batchsize = batchsize\n",
    "        self.lr = lr\n",
    "        self.burnin = burnin\n",
    "        self.lrm = lrm\n",
    "        self.earlystop = earlystop\n",
    "        self.cuda = cuda\n",
    "\n",
    "opt = PoincareOptions(epochs=10000, batchsize=16)\n",
    "embeddings, loss, epoch = train(\n",
    "    predictor,\n",
    "    dataset,\n",
    "    optimizer,\n",
    "    opt,\n",
    "    fout=f\"/home/romainlhardy/code/hyperbolic-cancer/data/outputs/{dset}\",\n",
    "    labels=labels,\n",
    "    earlystop=1e-6,\n",
    "    color_dict=None\n",
    ")"
   ]
  },
  {
   "cell_type": "code",
   "execution_count": 13,
   "metadata": {},
   "outputs": [],
   "source": [
    "from PoincareMaps.visualize import plotPoincareDisc, plot_poincare_disc\n",
    "\n",
    "root = 1\n",
    "root_hat = poincare_root(root, labels, features)\n",
    "embeddings_rotated = poincare_translation(-embeddings[root_hat, :], embeddings)\n",
    "\n",
    "sorted_labels = sorted(np.unique(labels))\n",
    "cmap = LinearSegmentedColormap.from_list(\"cool_to_hot\", [\"blue\", \"cyan\", \"green\", \"yellow\", \"orange\", \"red\"])\n",
    "colors = [cmap(i / (len(sorted_labels) - 1)) for i in range(len(sorted_labels))]\n",
    "color_dict = {label: to_hex(color) for label, color in zip(sorted_labels, colors)}\n",
    "color_dict = plotPoincareDisc(embeddings.T, labels, file_name=f\"/home/romainlhardy/code/hyperbolic-cancer/data/outputs/{dset}_raw\", color_dict=color_dict)\n",
    "\n",
    "plot_poincare_disc(\n",
    "    embeddings_rotated,\n",
    "    labels=labels,\n",
    "    file_name=f\"/home/romainlhardy/code/hyperbolic-cancer/data/outputs/{dset}_rot\", \n",
    "    coldict=color_dict,\n",
    "    d1=9.5, \n",
    "    d2=9.0\n",
    ")"
   ]
  }
 ],
 "metadata": {
  "kernelspec": {
   "display_name": "poincare",
   "language": "python",
   "name": "python3"
  },
  "language_info": {
   "codemirror_mode": {
    "name": "ipython",
    "version": 3
   },
   "file_extension": ".py",
   "mimetype": "text/x-python",
   "name": "python",
   "nbconvert_exporter": "python",
   "pygments_lexer": "ipython3",
   "version": "3.10.16"
  }
 },
 "nbformat": 4,
 "nbformat_minor": 2
}
