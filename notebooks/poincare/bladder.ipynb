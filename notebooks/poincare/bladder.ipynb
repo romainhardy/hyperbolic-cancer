{
 "cells": [
  {
   "cell_type": "code",
   "execution_count": 1,
   "metadata": {},
   "outputs": [],
   "source": [
    "import os\n",
    "import sys\n",
    "sys.path.append(\"/home/romainlhardy/code/hyperbolic-cancer/PoincareMaps\")\n",
    "\n",
    "import matplotlib.pyplot as plt\n",
    "import numpy as np\n",
    "import pandas as pd\n",
    "import torch\n",
    "\n",
    "from matplotlib.colors import LinearSegmentedColormap, to_hex\n",
    "from sklearn.decomposition import PCA\n",
    "from PoincareMaps.data import prepare_data, compute_rfa\n",
    "from PoincareMaps.model import PoincareEmbedding, PoincareDistance, poincare_root, poincare_translation\n",
    "from PoincareMaps.rsgd import RiemannianSGD\n",
    "from PoincareMaps.train import train\n",
    "from PoincareMaps.visualize import plotPoincareDisc, plot_poincare_disc\n",
    "from torch.utils.data import TensorDataset, DataLoader"
   ]
  },
  {
   "cell_type": "code",
   "execution_count": null,
   "metadata": {},
   "outputs": [],
   "source": [
    "data_dir = \"/home/romainlhardy/data/hyperbolic-cancer/bladder\"\n",
    "dset = \"bladder\"\n",
    "\n",
    "file_path = \"/home/romainlhardy/data/hyperbolic-cancer/bladder/GSM4307111_GEO_processed_BC159-T_3_log2TPM_matrix_final.txt\"\n",
    "df = pd.read_csv(file_path, sep=\"\\t\", index_col=0)\n",
    "\n",
    "expression_matrix = df.values.astype(np.float32).T\n",
    "\n",
    "# PCA\n",
    "pca = PCA(n_components=20)\n",
    "features = pca.fit_transform(expression_matrix)\n",
    "features = torch.DoubleTensor(features)\n",
    "print(features.shape)"
   ]
  },
  {
   "cell_type": "code",
   "execution_count": 3,
   "metadata": {},
   "outputs": [],
   "source": [
    "labels = [0 for _ in range(features.shape[0])]"
   ]
  },
  {
   "cell_type": "code",
   "execution_count": null,
   "metadata": {},
   "outputs": [],
   "source": [
    "rfa = compute_rfa(\n",
    "    features,\n",
    "    mode=\"features\", \n",
    "    k_neighbours=30, \n",
    "    distlocal=\"minkowski\",\n",
    "    distfn=\"MFIsym\", \n",
    "    connected=True, \n",
    "    sigma=1.0\n",
    ") # Pairwise distances in the original data space"
   ]
  },
  {
   "cell_type": "code",
   "execution_count": null,
   "metadata": {},
   "outputs": [],
   "source": [
    "device = \"cuda\"\n",
    "indices = torch.arange(len(rfa))\n",
    "\n",
    "indices = indices.to(device)\n",
    "rfa = rfa.to(device)\n",
    "\n",
    "dataset = TensorDataset(indices, rfa)\n",
    "dataloader = DataLoader(dataset, batch_size=64, shuffle=True)\n",
    "\n",
    "print(f\"Dataset size: {len(dataset)}\")"
   ]
  },
  {
   "cell_type": "code",
   "execution_count": 6,
   "metadata": {},
   "outputs": [],
   "source": [
    "predictor = PoincareEmbedding(\n",
    "    len(dataset), \n",
    "    2,\n",
    "    dist=PoincareDistance,\n",
    "    max_norm=1,\n",
    "    Qdist=\"laplace\", \n",
    "    lossfn=\"klSym\",\n",
    "    gamma=2.0,\n",
    "    cuda=0\n",
    ").to(device)"
   ]
  },
  {
   "cell_type": "code",
   "execution_count": null,
   "metadata": {},
   "outputs": [],
   "source": [
    "batch = next(iter(dataloader))\n",
    "inputs, targets = batch\n",
    "outputs = predictor(inputs.to(device)) # [batch_size, len(dataset)]\n",
    "\n",
    "assert outputs.sum(dim=-1).allclose(torch.ones(len(batch[0])).to(device))\n",
    "\n",
    "predictor.lossfn(outputs, targets) # Try to match the distance distributions in the data space and the embedding space"
   ]
  },
  {
   "cell_type": "code",
   "execution_count": 8,
   "metadata": {},
   "outputs": [],
   "source": [
    "optimizer = RiemannianSGD(predictor.parameters(), lr=0.1) # RiemannianSGD optimizer"
   ]
  },
  {
   "cell_type": "code",
   "execution_count": null,
   "metadata": {},
   "outputs": [],
   "source": [
    "class PoincareOptions:\n",
    "    def __init__(self, debugplot=False, epochs=500, batchsize=-1, lr=0.1, burnin=500, lrm=1.0, earlystop=0.0001, cuda=0):\n",
    "        self.debugplot = debugplot\n",
    "        self.epochs = epochs\n",
    "        self.batchsize = batchsize\n",
    "        self.lr = lr\n",
    "        self.burnin = burnin\n",
    "        self.lrm = lrm\n",
    "        self.earlystop = earlystop\n",
    "        self.cuda = cuda\n",
    "\n",
    "opt = PoincareOptions(epochs=1000, batchsize=16)\n",
    "embeddings, loss, epoch = train(\n",
    "    predictor,\n",
    "    dataset,\n",
    "    optimizer,\n",
    "    opt,\n",
    "    fout=f\"/home/romainlhardy/code/hyperbolic-cancer/data/outputs/{dset}\",\n",
    "    labels=labels,\n",
    "    earlystop=1e-6,\n",
    "    color_dict=None\n",
    ")"
   ]
  },
  {
   "cell_type": "code",
   "execution_count": 10,
   "metadata": {},
   "outputs": [],
   "source": [
    "from PoincareMaps.visualize import plotPoincareDisc, plot_poincare_disc\n",
    "\n",
    "# root_hat = poincare_root(root, labels, features)\n",
    "# embeddings_rotated = poincare_translation(-embeddings[root_hat, :], embeddings)\n",
    "color_dict = plotPoincareDisc(embeddings.T, labels, file_name=f\"/home/romainlhardy/code/hyperbolic-cancer/data/outputs/{dset}_raw\")\n",
    "\n",
    "# plot_poincare_disc(\n",
    "#     embeddings_rotated,\n",
    "#     labels=labels,\n",
    "#     file_name=f\"/home/romainlhardy/code/hyperbolic-cancer/data/outputs/{dset}_rot\", \n",
    "#     coldict=color_dict,\n",
    "#     d1=9.5, \n",
    "#     d2=9.0\n",
    "# )"
   ]
  }
 ],
 "metadata": {
  "kernelspec": {
   "display_name": "poincare",
   "language": "python",
   "name": "python3"
  },
  "language_info": {
   "codemirror_mode": {
    "name": "ipython",
    "version": 3
   },
   "file_extension": ".py",
   "mimetype": "text/x-python",
   "name": "python",
   "nbconvert_exporter": "python",
   "pygments_lexer": "ipython3",
   "version": "3.10.16"
  }
 },
 "nbformat": 4,
 "nbformat_minor": 2
}
